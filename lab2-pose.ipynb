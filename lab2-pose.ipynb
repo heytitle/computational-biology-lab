{
 "cells": [
  {
   "cell_type": "code",
   "execution_count": 1,
   "metadata": {},
   "outputs": [],
   "source": [
    "import pyrosetta"
   ]
  },
  {
   "cell_type": "code",
   "execution_count": 4,
   "metadata": {},
   "outputs": [
    {
     "name": "stdout",
     "output_type": "stream",
     "text": [
      "\u001b[0mcore.init: \u001b[0mChecking for fconfig files in pwd and ./rosetta/flags\n",
      "\u001b[0mcore.init: \u001b[0mRosetta version: PyRosetta4.Release.python36.mac r199 2018.44+release.3a2fbbe486a 3a2fbbe486a4601af76711ce65d8723a5ca73195 http://www.pyrosetta.org 2018-11-02T20:39:54\n",
      "\u001b[0mcore.init: \u001b[0mcommand: PyRosetta -ex1 -ex2aro -database /Users/heytitle/projects/venv-python3/lib/python3.6/site-packages/pyrosetta-2018.44+release.3a2fbbe486a-py3.6-macosx-10.11-x86_64.egg/pyrosetta/database\n",
      "\u001b[0mcore.init: \u001b[0m'RNG device' seed mode, using '/dev/urandom', seed=-108736575 seed_offset=0 real_seed=-108736575\n",
      "\u001b[0mcore.init.random: \u001b[0mRandomGenerator:init: Normal mode, seed=-108736575 RG_type=mt19937\n"
     ]
    }
   ],
   "source": [
    "pyrosetta.init()"
   ]
  },
  {
   "cell_type": "code",
   "execution_count": 5,
   "metadata": {},
   "outputs": [
    {
     "name": "stdout",
     "output_type": "stream",
     "text": [
      "\u001b[0mcore.chemical.GlobalResidueTypeSet: \u001b[0mFinished initializing fa_standard residue type set.  Created 617 residue types\n",
      "\u001b[0mcore.chemical.GlobalResidueTypeSet: \u001b[0mTotal time to initialize 0.771074 seconds.\n"
     ]
    }
   ],
   "source": [
    "pose1 = pyrosetta.pose_from_sequence('A'*10)"
   ]
  },
  {
   "cell_type": "code",
   "execution_count": 7,
   "metadata": {},
   "outputs": [],
   "source": [
    "from pyrosetta import PyMOLMover"
   ]
  },
  {
   "cell_type": "code",
   "execution_count": 8,
   "metadata": {},
   "outputs": [],
   "source": [
    "pmove = PyMOLMover()"
   ]
  },
  {
   "cell_type": "code",
   "execution_count": 15,
   "metadata": {},
   "outputs": [],
   "source": [
    "pmove.apply(pose1)"
   ]
  },
  {
   "cell_type": "code",
   "execution_count": 13,
   "metadata": {},
   "outputs": [
    {
     "name": "stdout",
     "output_type": "stream",
     "text": [
      "180.0\n",
      "180.0\n",
      "180.0\n",
      "180.0\n",
      "180.0\n",
      "180.0\n",
      "180.0\n",
      "180.0\n",
      "180.0\n",
      "180.0\n"
     ]
    }
   ],
   "source": [
    "for res in range(1, pose1.total_residue() + 1):\n",
    "    print(pose1.phi(res))\n",
    "#     print(pose1.psi(res))\n",
    "#     print(pose1.omega(res))\n",
    "#     print(pose1.residue(res).xyz('CA'))"
   ]
  },
  {
   "cell_type": "code",
   "execution_count": 14,
   "metadata": {},
   "outputs": [
    {
     "name": "stdout",
     "output_type": "stream",
     "text": [
      "None\n",
      "None\n",
      "None\n",
      "None\n",
      "None\n",
      "None\n",
      "None\n",
      "None\n",
      "None\n",
      "None\n"
     ]
    }
   ],
   "source": [
    "for res in range(1, pose1.total_residue() + 1):\n",
    "    print(pose1.set_phi(res, 40))"
   ]
  },
  {
   "cell_type": "markdown",
   "metadata": {},
   "source": [
    "# Animate Pose 2"
   ]
  },
  {
   "cell_type": "code",
   "execution_count": 48,
   "metadata": {},
   "outputs": [],
   "source": [
    "import numpy as np\n",
    "import time\n"
   ]
  },
  {
   "cell_type": "code",
   "execution_count": 17,
   "metadata": {},
   "outputs": [],
   "source": [
    "pose2 = pyrosetta.pose_from_sequence('A'*7 + 'G'*7)"
   ]
  },
  {
   "cell_type": "code",
   "execution_count": 50,
   "metadata": {},
   "outputs": [],
   "source": [
    "for i in range(1000):\n",
    "    for res in range(1, pose2.total_residue() + 1):\n",
    "#         xnp.random.randint(-180, 180)\n",
    "        x, y = np.random.randint(-180, 180, 2)\n",
    "        pose2.set_phi(res, x)\n",
    "        pose2.set_psi(res, y)\n",
    "\n",
    "    pmove.apply(pose2)"
   ]
  },
  {
   "cell_type": "code",
   "execution_count": 27,
   "metadata": {},
   "outputs": [],
   "source": [
    "pmove.apply(pose2)"
   ]
  },
  {
   "cell_type": "code",
   "execution_count": 24,
   "metadata": {},
   "outputs": [
    {
     "data": {
      "text/plain": [
       "[<pyrosetta.rosetta.core.conformation.Residue at 0x12440a1f0>,\n",
       " <pyrosetta.rosetta.core.conformation.Residue at 0x12440a308>,\n",
       " <pyrosetta.rosetta.core.conformation.Residue at 0x12440a2d0>,\n",
       " <pyrosetta.rosetta.core.conformation.Residue at 0x12440a3b0>,\n",
       " <pyrosetta.rosetta.core.conformation.Residue at 0x12440a1b8>,\n",
       " <pyrosetta.rosetta.core.conformation.Residue at 0x12440a378>,\n",
       " <pyrosetta.rosetta.core.conformation.Residue at 0x12440a420>,\n",
       " <pyrosetta.rosetta.core.conformation.Residue at 0x12440a3e8>,\n",
       " <pyrosetta.rosetta.core.conformation.Residue at 0x12440a458>,\n",
       " <pyrosetta.rosetta.core.conformation.Residue at 0x12440a4c8>,\n",
       " <pyrosetta.rosetta.core.conformation.Residue at 0x12440a490>,\n",
       " <pyrosetta.rosetta.core.conformation.Residue at 0x12440a500>,\n",
       " <pyrosetta.rosetta.core.conformation.Residue at 0x12440a538>,\n",
       " <pyrosetta.rosetta.core.conformation.Residue at 0x12440a570>]"
      ]
     },
     "execution_count": 24,
     "metadata": {},
     "output_type": "execute_result"
    }
   ],
   "source": [
    "list(pose2.residues)"
   ]
  },
  {
   "cell_type": "code",
   "execution_count": 45,
   "metadata": {},
   "outputs": [],
   "source": [
    "# for i in range(1000):\n",
    "x, y = np.random.randint(-180, 180, 2)"
   ]
  },
  {
   "cell_type": "code",
   "execution_count": 46,
   "metadata": {},
   "outputs": [
    {
     "data": {
      "text/plain": [
       "(164, -23)"
      ]
     },
     "execution_count": 46,
     "metadata": {},
     "output_type": "execute_result"
    }
   ],
   "source": [
    "x, y"
   ]
  },
  {
   "cell_type": "markdown",
   "metadata": {},
   "source": [
    "# Scoring and representations"
   ]
  },
  {
   "cell_type": "code",
   "execution_count": 58,
   "metadata": {},
   "outputs": [],
   "source": [
    "pose3 = pyrosetta.pose_from_sequence('A'*7 + 'G'*7)"
   ]
  },
  {
   "cell_type": "code",
   "execution_count": 52,
   "metadata": {},
   "outputs": [
    {
     "name": "stdout",
     "output_type": "stream",
     "text": [
      "\u001b[0mcore.scoring.ScoreFunctionFactory: \u001b[0mSCOREFUNCTION: \u001b[32mref2015\u001b[0m\n",
      "\u001b[0mcore.scoring.etable: \u001b[0mStarting energy table calculation\n",
      "\u001b[0mcore.scoring.etable: \u001b[0msmooth_etable: changing atr/rep split to bottom of energy well\n",
      "\u001b[0mcore.scoring.etable: \u001b[0msmooth_etable: spline smoothing lj etables (maxdis = 6)\n",
      "\u001b[0mcore.scoring.etable: \u001b[0msmooth_etable: spline smoothing solvation etables (max_dis = 6)\n",
      "\u001b[0mcore.scoring.etable: \u001b[0mFinished calculating energy tables.\n",
      "\u001b[0mbasic.io.database: \u001b[0mDatabase file opened: scoring/score_functions/hbonds/ref2015_params/HBPoly1D.csv\n",
      "\u001b[0mbasic.io.database: \u001b[0mDatabase file opened: scoring/score_functions/hbonds/ref2015_params/HBFadeIntervals.csv\n",
      "\u001b[0mbasic.io.database: \u001b[0mDatabase file opened: scoring/score_functions/hbonds/ref2015_params/HBEval.csv\n",
      "\u001b[0mbasic.io.database: \u001b[0mDatabase file opened: scoring/score_functions/hbonds/ref2015_params/DonStrength.csv\n",
      "\u001b[0mbasic.io.database: \u001b[0mDatabase file opened: scoring/score_functions/hbonds/ref2015_params/AccStrength.csv\n",
      "\u001b[0mbasic.io.database: \u001b[0mDatabase file opened: scoring/score_functions/rama/fd/all.ramaProb\n",
      "\u001b[0mbasic.io.database: \u001b[0mDatabase file opened: scoring/score_functions/rama/fd/prepro.ramaProb\n",
      "\u001b[0mbasic.io.database: \u001b[0mDatabase file opened: scoring/score_functions/omega/omega_ppdep.all.txt\n",
      "\u001b[0mbasic.io.database: \u001b[0mDatabase file opened: scoring/score_functions/omega/omega_ppdep.gly.txt\n",
      "\u001b[0mbasic.io.database: \u001b[0mDatabase file opened: scoring/score_functions/omega/omega_ppdep.pro.txt\n",
      "\u001b[0mbasic.io.database: \u001b[0mDatabase file opened: scoring/score_functions/omega/omega_ppdep.valile.txt\n",
      "\u001b[0mbasic.io.database: \u001b[0mDatabase file opened: scoring/score_functions/P_AA_pp/P_AA\n",
      "\u001b[0mbasic.io.database: \u001b[0mDatabase file opened: scoring/score_functions/P_AA_pp/P_AA_n\n",
      "\u001b[0mcore.scoring.P_AA: \u001b[0mshapovalov_lib::shap_p_aa_pp_smooth_level of 1( aka low_smooth ) got activated.\n",
      "\u001b[0mbasic.io.database: \u001b[0mDatabase file opened: scoring/score_functions/P_AA_pp/shapovalov/10deg/kappa131/a20.prop\n"
     ]
    }
   ],
   "source": [
    "score_fa = pyrosetta.get_fa_scorefxn()"
   ]
  },
  {
   "cell_type": "code",
   "execution_count": 54,
   "metadata": {},
   "outputs": [],
   "source": []
  },
  {
   "cell_type": "code",
   "execution_count": 65,
   "metadata": {},
   "outputs": [
    {
     "name": "stdout",
     "output_type": "stream",
     "text": [
      "Start score : 2000.000000\n",
      "iter 0 : score : 51.020984\n",
      "Start score : 2000.000000\n",
      "iter 1 : score : 47.689021\n",
      "Start score : 2000.000000\n",
      "iter 2 : score : 45.382002\n",
      "Start score : 2000.000000\n",
      "iter 3 : score : 44.859136\n",
      "Start score : 2000.000000\n",
      "iter 4 : score : 48.058831\n",
      "Start score : 2000.000000\n",
      "iter 5 : score : 44.630732\n",
      "Start score : 2000.000000\n",
      "iter 6 : score : 55.079043\n",
      "Start score : 2000.000000\n",
      "iter 7 : score : 41.947940\n",
      "Start score : 2000.000000\n",
      "iter 8 : score : 41.216723\n",
      "Start score : 2000.000000\n",
      "iter 9 : score : 49.974842\n"
     ]
    }
   ],
   "source": [
    "\n",
    "\n",
    "# sa = score_fa(start_pose)\n",
    "\n",
    "for j in range(10):\n",
    "    start_pose = pose3.clone()\n",
    "    sa = 2000\n",
    "    print('Start score : %f' % sa)\n",
    "    for i in range(1000):\n",
    "        pose_copied = start_pose.clone()\n",
    "        for res in range(1, pose_copied.total_residue() + 1):\n",
    "    #         xnp.random.randint(-180, 180)\n",
    "            x, y = np.random.randint(-180, 180, 2)\n",
    "            pose_copied.set_phi(res, x)\n",
    "            pose_copied.set_psi(res, y)\n",
    "\n",
    "        sc2 = score_fa(pose_copied)\n",
    "    #     print(sc2)\n",
    "        if sc2 < sa:\n",
    "            start_pose = pose_copied\n",
    "            sa = sc2 \n",
    "    time.sleep(1)\n",
    "    print('iter %d : score : %f' % (j, sa))\n",
    "    pmove.apply(start_pose)"
   ]
  },
  {
   "cell_type": "code",
   "execution_count": null,
   "metadata": {},
   "outputs": [],
   "source": [
    "from pyrosetta.roseta.protocols.simple_moves import SwitchResidu"
   ]
  },
  {
   "cell_type": "code",
   "execution_count": 62,
   "metadata": {},
   "outputs": [],
   "source": [
    "pmove.apply(start_pose)"
   ]
  },
  {
   "cell_type": "code",
   "execution_count": null,
   "metadata": {},
   "outputs": [],
   "source": []
  }
 ],
 "metadata": {
  "kernelspec": {
   "display_name": "Python-3-Main",
   "language": "python",
   "name": "python-3-main"
  },
  "language_info": {
   "codemirror_mode": {
    "name": "ipython",
    "version": 3
   },
   "file_extension": ".py",
   "mimetype": "text/x-python",
   "name": "python",
   "nbconvert_exporter": "python",
   "pygments_lexer": "ipython3",
   "version": "3.6.3"
  },
  "toc": {
   "nav_menu": {},
   "number_sections": true,
   "sideBar": true,
   "skip_h1_title": false,
   "toc_cell": false,
   "toc_position": {},
   "toc_section_display": "block",
   "toc_window_display": true
  }
 },
 "nbformat": 4,
 "nbformat_minor": 2
}
